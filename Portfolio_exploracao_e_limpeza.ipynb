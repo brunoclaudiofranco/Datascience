{
  "nbformat": 4,
  "nbformat_minor": 0,
  "metadata": {
    "colab": {
      "provenance": [],
      "mount_file_id": "15hAQJ3lj2nsLW_3vE0ltPuj57BhOlAHG",
      "authorship_tag": "ABX9TyOG5KBVlAb+lsMnsuYh79k0",
      "include_colab_link": true
    },
    "kernelspec": {
      "name": "python3",
      "display_name": "Python 3"
    },
    "language_info": {
      "name": "python"
    }
  },
  "cells": [
    {
      "cell_type": "markdown",
      "metadata": {
        "id": "view-in-github",
        "colab_type": "text"
      },
      "source": [
        "<a href=\"https://colab.research.google.com/github/brunoclaudiofranco/Datascience/blob/main/Portfolio_exploracao_e_limpeza.ipynb\" target=\"_parent\"><img src=\"https://colab.research.google.com/assets/colab-badge.svg\" alt=\"Open In Colab\"/></a>"
      ]
    },
    {
      "cell_type": "markdown",
      "source": [
        "##Setup"
      ],
      "metadata": {
        "id": "FgMjY8ajxbC9"
      }
    },
    {
      "cell_type": "code",
      "source": [
        "import pandas as pd"
      ],
      "metadata": {
        "id": "BZW4M3Z8xfAU"
      },
      "execution_count": null,
      "outputs": []
    },
    {
      "cell_type": "code",
      "source": [
        "#Importing Data\n",
        "\n",
        "df = pd.read_excel('/content/drive/MyDrive/Colab Notebooks/default_of_credit_card_clients__courseware_version_1_21_19.xls')\n",
        "#df = pd.read_csv('diretory/file.csv',sep=';')"
      ],
      "metadata": {
        "id": "OuW_NPRHxkKe"
      },
      "execution_count": null,
      "outputs": []
    },
    {
      "cell_type": "markdown",
      "source": [
        "1. Columns quantite\n",
        "2. Row quantite\n",
        "3. Categorical columns\n",
        "4. Numerical columns\n"
      ],
      "metadata": {
        "id": "kf-VCCjryG_x"
      }
    },
    {
      "cell_type": "code",
      "source": [
        "#Verifing if ID columns have unique values\n",
        "#unique = df['ID'].nunique()\n",
        "\n",
        "#Comparing the data shape\n",
        "#shpe = df.shape()\n",
        "#Atention: if the unique != shpe[0]\n",
        "\n",
        "#Than verify the quantite of duplicate id with\n",
        "#id_counts = df['ID'].value_counts()\n",
        "#id_counts.value_counts()\n"
      ],
      "metadata": {
        "id": "4pAebhN6ycOK"
      },
      "execution_count": null,
      "outputs": []
    },
    {
      "cell_type": "code",
      "source": [
        "l = [[1,2,3,4],[0,0,0,0]]"
      ],
      "metadata": {
        "id": "Z1NP4KWBzLan"
      },
      "execution_count": null,
      "outputs": []
    },
    {
      "cell_type": "code",
      "source": [
        " #Boolean Mask\n",
        " #dupe_mask = id_counts == 'condition' #(can be >, =, !=, ==)\n",
        "\n",
        " #dupe_ids = id_counts.index[dupe_mask] # now only the results with TRUE was selected\n",
        " #dupe_ids = list(dupe_ids) #converting in list type\n",
        "\n",
        " #df.loc[df['ID'].isin(dupe_ids),:] # in the original dataframe, filter the row with duplicate ID"
      ],
      "metadata": {
        "id": "4snaQiwMz45k"
      },
      "execution_count": null,
      "outputs": []
    },
    {
      "cell_type": "code",
      "source": [
        "#Boolean Mask zero\n",
        "#Creating a boleean df for cell with value igual to zero\n",
        "df_zero_mark = df ==0\n",
        "\n",
        "#transform the previus df in a serie with bollean value, when if all columns is true then return true,\n",
        "#Firt, loc all row \":\" and all columns expet the firt one \"1:\", then get \"all\" function to sumirise the all columns in a serie(if all columns true then true )\n",
        "feature_zero_mark = df_zero_mark.iloc[:,1:].all(axis=1)\n",
        "sum(feature_zero_mark)\n",
        "\n",
        "#creating a new df with value different of \"feature_zero_mask\"\n",
        "df_clear_1 = df.loc[~feature_zero_mark,:].copy()\n"
      ],
      "metadata": {
        "id": "dUnH7TBh4778"
      },
      "execution_count": null,
      "outputs": []
    }
  ]
}